{
  "cells": [
    {
      "cell_type": "markdown",
      "metadata": {
        "id": "aLZXcJSfrqC2"
      },
      "source": [
        "### Importing Necessary Libraries"
      ]
    },
    {
      "cell_type": "code",
      "execution_count": null,
      "metadata": {
        "id": "XsnzadLJdznS"
      },
      "outputs": [],
      "source": [
        "import numpy as np\n",
        "import pandas as pd\n",
        "import matplotlib.pyplot as plt\n",
        "import seaborn as sns\n",
        "import tensorflow as tf\n",
        "import timeit\n",
        "from tensorflow.keras.utils import to_categorical\n",
        "import pickle\n",
        "import random\n",
        "import librosa\n",
        "import librosa.display\n",
        "from itertools import combinations,product\n",
        "from tensorflow.keras.layers import Layer\n",
        "from tensorflow import keras\n",
        "from tensorflow.keras import layers\n",
        "from tensorflow.keras.layers import Flatten\n",
        "from keras.models import Model\n",
        "from sklearn.decomposition import PCA\n",
        "from sklearn.manifold import TSNE"
      ]
    },
    {
      "cell_type": "markdown",
      "metadata": {
        "id": "QxhpBNWX6YNK"
      },
      "source": [
        "### Connecting to GPU"
      ]
    },
    {
      "cell_type": "code",
      "execution_count": null,
      "metadata": {
        "colab": {
          "base_uri": "https://localhost:8080/"
        },
        "id": "nSbJ2FK4ebCF",
        "outputId": "25b0c19d-2fb7-4885-94a7-77da06e1a8f4"
      },
      "outputs": [
        {
          "name": "stdout",
          "output_type": "stream",
          "text": [
            "Found GPU at: /device:GPU:0\n"
          ]
        }
      ],
      "source": [
        "device_name = tf.test.gpu_device_name()\n",
        "if device_name != '/device:GPU:0':\n",
        "  raise SystemError('GPU device not found')\n",
        "print('Found GPU at: {}'.format(device_name))"
      ]
    },
    {
      "cell_type": "code",
      "execution_count": null,
      "metadata": {
        "colab": {
          "base_uri": "https://localhost:8080/"
        },
        "id": "0rY2KPnnebJD",
        "outputId": "83386beb-7cfb-4558-ab05-0c44035c265a"
      },
      "outputs": [
        {
          "name": "stdout",
          "output_type": "stream",
          "text": [
            "Time (s) to convolve 32x7x7x3 filter over random 100x100x100x3 images (batch x height x width x channel). Sum of ten runs.\n",
            "CPU (s):\n",
            "0.3881748850000122\n",
            "GPU (s):\n",
            "0.0394624200000635\n",
            "GPU speedup over CPU: 9x\n"
          ]
        }
      ],
      "source": [
        "device_name = tf.test.gpu_device_name()\n",
        "if device_name != '/device:GPU:0':\n",
        "  print(\n",
        "      '\\n\\nThis error most likely means that this notebook is not '\n",
        "      'configured to use a GPU.  Change this in Notebook Settings via the '\n",
        "      'command palette (cmd/ctrl-shift-P) or the Edit menu.\\n\\n')\n",
        "  raise SystemError('GPU device not found')\n",
        "\n",
        "def cpu():\n",
        "  with tf.device('/cpu:0'):\n",
        "    random_image_cpu = tf.random.normal((100, 100, 100, 3))\n",
        "    net_cpu = tf.keras.layers.Conv2D(32, 7)(random_image_cpu)\n",
        "    return tf.math.reduce_sum(net_cpu)\n",
        "\n",
        "def gpu():\n",
        "  with tf.device('/device:GPU:0'):\n",
        "    random_image_gpu = tf.random.normal((100, 100, 100, 3))\n",
        "    net_gpu = tf.keras.layers.Conv2D(32, 7)(random_image_gpu)\n",
        "    return tf.math.reduce_sum(net_gpu)\n",
        "\n",
        "# We run each op once to warm up; see: https://stackoverflow.com/a/45067900\n",
        "cpu()\n",
        "gpu()\n",
        "\n",
        "# Run the op several times.\n",
        "print('Time (s) to convolve 32x7x7x3 filter over random 100x100x100x3 images '\n",
        "      '(batch x height x width x channel). Sum of ten runs.')\n",
        "print('CPU (s):')\n",
        "cpu_time = timeit.timeit('cpu()', number=10, setup=\"from __main__ import cpu\")\n",
        "print(cpu_time)\n",
        "print('GPU (s):')\n",
        "gpu_time = timeit.timeit('gpu()', number=10, setup=\"from __main__ import gpu\")\n",
        "print(gpu_time)\n",
        "print('GPU speedup over CPU: {}x'.format(int(cpu_time/gpu_time)))"
      ]
    },
    {
      "cell_type": "markdown",
      "metadata": {
        "id": "mzcc1gPs6cay"
      },
      "source": [
        "### Loading the Pickle Files"
      ]
    },
    {
      "cell_type": "code",
      "execution_count": null,
      "metadata": {
        "colab": {
          "base_uri": "https://localhost:8080/"
        },
        "id": "P5zXwb9LFYp2",
        "outputId": "327adc29-4a10-40ae-f815-7e78f01f352f"
      },
      "outputs": [
        {
          "name": "stdout",
          "output_type": "stream",
          "text": [
            "Mounted at /content/drive\n"
          ]
        }
      ],
      "source": [
        "from google.colab import drive\n",
        "drive.mount('/content/drive')"
      ]
    },
    {
      "cell_type": "code",
      "execution_count": null,
      "metadata": {
        "id": "YcjFDZMhFece"
      },
      "outputs": [],
      "source": [
        "train_path = '/content/drive/MyDrive/DLS_Assignments/Assignment4_Files/hw4_trs.pkl'\n",
        "test_path = '/content/drive/MyDrive/DLS_Assignments/Assignment4_Files/hw4_tes.pkl'"
      ]
    },
    {
      "cell_type": "code",
      "execution_count": null,
      "metadata": {
        "id": "8AX-SenIFzOW"
      },
      "outputs": [],
      "source": [
        "tr_pickle = open(train_path,'rb')\n",
        "ts_pickle = open(test_path,'rb')\n",
        "x_train = pickle.load(tr_pickle)\n",
        "x_test = pickle.load(ts_pickle)"
      ]
    },
    {
      "cell_type": "code",
      "execution_count": null,
      "metadata": {
        "colab": {
          "base_uri": "https://localhost:8080/"
        },
        "id": "nq7tvmqZIK-N",
        "outputId": "d2593abb-f537-462a-8452-efd28e9ad8df"
      },
      "outputs": [
        {
          "name": "stdout",
          "output_type": "stream",
          "text": [
            "(500, 16180)\n"
          ]
        }
      ],
      "source": [
        "print(x_train.shape)"
      ]
    },
    {
      "cell_type": "code",
      "execution_count": null,
      "metadata": {
        "colab": {
          "base_uri": "https://localhost:8080/"
        },
        "id": "qR4W58Z0IO13",
        "outputId": "be8b12ae-c260-4a16-92ba-7bb51a0a157f"
      },
      "outputs": [
        {
          "name": "stdout",
          "output_type": "stream",
          "text": [
            "(200, 22631)\n"
          ]
        }
      ],
      "source": [
        "print(x_test.shape)"
      ]
    },
    {
      "cell_type": "markdown",
      "metadata": {
        "id": "IgJLwXv_RXYL"
      },
      "source": [
        "### Applying STFT beforehand on training and test data samples"
      ]
    },
    {
      "cell_type": "code",
      "execution_count": null,
      "metadata": {
        "id": "SYaJRXS-RVvi"
      },
      "outputs": [],
      "source": [
        "positive_pairs_index = random.sample(list(combinations(range(10),2)),45)"
      ]
    },
    {
      "cell_type": "code",
      "execution_count": null,
      "metadata": {
        "colab": {
          "base_uri": "https://localhost:8080/"
        },
        "id": "Bc1n7DRCVoId",
        "outputId": "e503a990-9d73-443f-fdff-77f37769576e"
      },
      "outputs": [
        {
          "data": {
            "text/plain": [
              "4.1278403e-05"
            ]
          },
          "execution_count": 35,
          "metadata": {},
          "output_type": "execute_result"
        }
      ],
      "source": [
        "x_train[0][0]"
      ]
    },
    {
      "cell_type": "code",
      "execution_count": null,
      "metadata": {
        "colab": {
          "base_uri": "https://localhost:8080/"
        },
        "id": "qhVuKYDdXFxe",
        "outputId": "bcd9ade5-2a28-4eb0-80cf-4bb2fc51c5a6"
      },
      "outputs": [
        {
          "name": "stdout",
          "output_type": "stream",
          "text": [
            "(500, 45, 513)\n"
          ]
        }
      ],
      "source": [
        "x_train_stft = np.zeros(shape=(500,45,513))\n",
        "for i in range(x_train.shape[0]):\n",
        "    x = x_train[i,:]\n",
        "    X_complex = librosa.stft(x, n_fft=1024, hop_length=512)\n",
        "    X = np.abs(X_complex).T\n",
        "    x_train_stft[i,:,:] = np.pad(X,((0,13),(0,0)), 'constant')\n",
        "print(x_train_stft.shape)"
      ]
    },
    {
      "cell_type": "code",
      "execution_count": null,
      "metadata": {
        "colab": {
          "base_uri": "https://localhost:8080/"
        },
        "id": "rPD0PDuYbpbT",
        "outputId": "dbc921fb-6c5d-445c-e206-82aa66811392"
      },
      "outputs": [
        {
          "name": "stdout",
          "output_type": "stream",
          "text": [
            "(500, 1)\n"
          ]
        }
      ],
      "source": [
        "y_train = np.zeros((500,1))\n",
        "index=0\n",
        "for i in range(0,50):\n",
        "    for j in range(0,10):\n",
        "        y_train[index]=i\n",
        "        index+=1\n",
        "print(y_train.shape)"
      ]
    },
    {
      "cell_type": "code",
      "execution_count": null,
      "metadata": {
        "colab": {
          "base_uri": "https://localhost:8080/"
        },
        "id": "LT5xp7zPjGsO",
        "outputId": "1a8af38c-3f39-454f-91c8-a96a9a2c6679"
      },
      "outputs": [
        {
          "data": {
            "text/plain": [
              "(45, 513)"
            ]
          },
          "execution_count": 38,
          "metadata": {},
          "output_type": "execute_result"
        }
      ],
      "source": [
        "x_train_stft[0].shape"
      ]
    },
    {
      "cell_type": "code",
      "execution_count": null,
      "metadata": {
        "colab": {
          "base_uri": "https://localhost:8080/"
        },
        "id": "tkNdsOskXRmy",
        "outputId": "51679da6-f41d-4a44-d3c7-1fe06bf722a1"
      },
      "outputs": [
        {
          "name": "stdout",
          "output_type": "stream",
          "text": [
            "(200, 45, 513)\n"
          ]
        }
      ],
      "source": [
        "x_test_stft = np.zeros(shape=(200,45,513))\n",
        "for i in range(x_test.shape[0]):\n",
        "    x = x_test[i,:]\n",
        "    X_complex = librosa.stft(x, n_fft=1024, hop_length=512)\n",
        "    X = np.abs(X_complex).T\n",
        "    x_test_stft[i,:,:] = X\n",
        "print(x_test_stft.shape)"
      ]
    },
    {
      "cell_type": "code",
      "execution_count": null,
      "metadata": {
        "colab": {
          "base_uri": "https://localhost:8080/"
        },
        "id": "ibNvziWTb8Ox",
        "outputId": "6234b965-db92-458e-ef33-78a983a8922a"
      },
      "outputs": [
        {
          "name": "stdout",
          "output_type": "stream",
          "text": [
            "(200, 1)\n"
          ]
        }
      ],
      "source": [
        "y_test = np.zeros((200,1))\n",
        "idx=0\n",
        "for i in range(0,20):\n",
        "    for j in range(0,10):\n",
        "        y_test[idx]=i\n",
        "        idx+=1\n",
        "print(y_test.shape)"
      ]
    },
    {
      "cell_type": "markdown",
      "metadata": {
        "id": "6Bql528q6uXf"
      },
      "source": [
        "### Creating the Positive and Negative Pairs of all the speakers for training and test data"
      ]
    },
    {
      "cell_type": "code",
      "execution_count": null,
      "metadata": {
        "id": "hbtc4LTnbfcA"
      },
      "outputs": [],
      "source": [
        "y_train = np.array(y_train)\n",
        "X_index = np.arange(0,len(y_train)).reshape(-1,1)"
      ]
    },
    {
      "cell_type": "code",
      "execution_count": null,
      "metadata": {
        "id": "aLM101uN_j-G"
      },
      "outputs": [],
      "source": [
        "num_pairs = 45\n",
        "unique_speaker = np.unique(y_train)"
      ]
    },
    {
      "cell_type": "code",
      "execution_count": null,
      "metadata": {
        "id": "AZZoHP37_W_B"
      },
      "outputs": [],
      "source": [
        "def positive_pair(pos_index,pairs,labels,data):\n",
        "  positive_list = list(combinations(pos_index,2))\n",
        "  positive_pairs = random.sample(positive_list,num_pairs)\n",
        "  for pair in positive_pairs:\n",
        "    inst1,inst2 = data[pair[0],:,:], data[pair[1],:,:]\n",
        "    pairs = pairs + [[inst1,inst2]]\n",
        "    labels = labels + [0]\n",
        "  return pairs,labels"
      ]
    },
    {
      "cell_type": "code",
      "execution_count": null,
      "metadata": {
        "id": "s4qFQ-Nx_aTD"
      },
      "outputs": [],
      "source": [
        "def add_negative_pairs(pos_index,neg_index,pairs,label,data):\n",
        "  negative_list = list(product(pos_index,neg_index))\n",
        "  negative_pairs = random.sample(negative_list,num_pairs)\n",
        "  for pair in negative_pairs:\n",
        "    inst1,inst2 = data[pair[0],:,:], data[pair[1],:,:]\n",
        "    pairs = pairs + [[inst1,inst2]]\n",
        "    label = label + [1]\n",
        "  return pairs,label"
      ]
    },
    {
      "cell_type": "code",
      "execution_count": null,
      "metadata": {
        "id": "MizXeqiFa8o4"
      },
      "outputs": [],
      "source": [
        "pair_list = []\n",
        "labels =[]\n",
        "for speaker in unique_speaker:\n",
        "  speaker1_index = X_index[np.where(y_train==speaker)]\n",
        "  speaker2_index = X_index[np.where(y_train!=speaker)]\n",
        "  pair_list,labels = positive_pair(speaker1_index,pair_list,labels,x_train_stft)\n",
        "  #print(len(pair_pos))\n",
        "  pair_list,labels = add_negative_pairs(speaker1_index,speaker2_index,pair_list,labels,x_train_stft)\n",
        "  #pair_list.append(final_pair)\n",
        "  #labels.append(final_labels)\n",
        "  #print(len(final_pair_list))\n",
        "  #print(len(final_labels))\n",
        "\n",
        "pair_list = np.asarray(pair_list)\n",
        "labels = np.asarray(labels).astype(\"float32\")"
      ]
    },
    {
      "cell_type": "code",
      "execution_count": null,
      "metadata": {
        "id": "ua-EBxAXOxtp"
      },
      "outputs": [],
      "source": [
        "y_test = np.array(y_test)\n",
        "x_index = np.arange(0,len(y_test)).reshape(-1,1)\n",
        "unique_speaker = np.unique(y_test)"
      ]
    },
    {
      "cell_type": "code",
      "execution_count": null,
      "metadata": {
        "id": "PgzUbPIzNuY1"
      },
      "outputs": [],
      "source": [
        "test_pair_list = []\n",
        "test_labels =[]\n",
        "for speaker in unique_speaker:\n",
        "  speaker1_index = X_index[np.where(y_test==speaker)]\n",
        "  speaker2_index = X_index[np.where(y_test!=speaker)]\n",
        "  test_pair_list,test_labels = positive_pair(speaker1_index,test_pair_list,test_labels,x_test_stft)\n",
        "  #print(len(pair_pos))\n",
        "  test_pair_list,test_labels = add_negative_pairs(speaker1_index,speaker2_index,test_pair_list,test_labels,x_test_stft)\n",
        "  #pair_list.append(final_pair)\n",
        "  #labels.append(final_labels)\n",
        "  #print(len(final_pair_list))\n",
        "  #print(len(final_labels))\n",
        "\n",
        "test_pair_list = np.asarray(test_pair_list)\n",
        "test_labels = np.asarray(test_labels).astype(\"float32\")"
      ]
    },
    {
      "cell_type": "code",
      "execution_count": null,
      "metadata": {
        "colab": {
          "base_uri": "https://localhost:8080/"
        },
        "id": "nQ9ujpYXBMkc",
        "outputId": "0dec8324-10df-4c38-87c4-56b2821e0441"
      },
      "outputs": [
        {
          "data": {
            "text/plain": [
              "(4500, 2, 45, 513)"
            ]
          },
          "execution_count": 48,
          "metadata": {},
          "output_type": "execute_result"
        }
      ],
      "source": [
        "pair_list.shape"
      ]
    },
    {
      "cell_type": "code",
      "execution_count": null,
      "metadata": {
        "colab": {
          "base_uri": "https://localhost:8080/"
        },
        "id": "1EkTQf_EXBRg",
        "outputId": "8684e90d-6046-4ad5-d080-0439c824e9ba"
      },
      "outputs": [
        {
          "data": {
            "text/plain": [
              "(1800, 2, 45, 513)"
            ]
          },
          "execution_count": 50,
          "metadata": {},
          "output_type": "execute_result"
        }
      ],
      "source": [
        "test_pair_list.shape"
      ]
    },
    {
      "cell_type": "markdown",
      "metadata": {
        "id": "ItpIuHqM69DR"
      },
      "source": [
        "### Calculating Euclidean distance and defining the loss function for the Siamese Network Model"
      ]
    },
    {
      "cell_type": "code",
      "execution_count": null,
      "metadata": {
        "id": "uJgLv8JlBMr5"
      },
      "outputs": [],
      "source": [
        "# Provided two tensors t1 and t2\n",
        "# Euclidean distance = sqrt(sum(square(t1-t2)))\n",
        "def euclidean_distance(vects):\n",
        "  x, y = vects\n",
        "  sum_square = tf.math.reduce_sum(tf.math.square(x - y), axis=1, keepdims=True)\n",
        "  return tf.math.sqrt(tf.math.maximum(sum_square, tf.keras.backend.epsilon()))"
      ]
    },
    {
      "cell_type": "code",
      "execution_count": null,
      "metadata": {
        "id": "subatKSdL-gF"
      },
      "outputs": [],
      "source": [
        "def loss(margin):\n",
        "    \"\"\"\n",
        "    Returns:\n",
        "        'constrastive_loss' function with data ('margin') attached.\n",
        "    \"\"\"\n",
        "\n",
        "    # Contrastive loss = mean( (1-true_value) * square(prediction) + true_value * square( max(margin-prediction, 0) ))\n",
        "    def contrastive_loss(y_true, y_pred):\n",
        "      square_pred = tf.math.square(y_pred)\n",
        "      margin_square = tf.math.square(tf.math.maximum(margin - (y_pred), 0))\n",
        "      return tf.math.reduce_mean(\n",
        "          (1 - y_true) * square_pred + (y_true) * margin_square\n",
        "      )\n",
        "\n",
        "    return contrastive_loss"
      ]
    },
    {
      "cell_type": "markdown",
      "metadata": {
        "id": "Ktg6rG4w7LNS"
      },
      "source": [
        "### Creating the Model"
      ]
    },
    {
      "cell_type": "code",
      "execution_count": null,
      "metadata": {
        "id": "YlBaOmpRBMuR"
      },
      "outputs": [],
      "source": [
        "input = layers.Input(shape=(45,513))\n",
        "x = tf.keras.layers.GRU(513, return_sequences=True,dropout=0.2)(input),\n",
        "x = tf.keras.layers.GRU(513, return_sequences=False,dropout=0.2)(x[0]),\n",
        "#x = tf.keras.layers.GRU(513, return_sequences=False,dropout=0.2)(x[1]),\n",
        "x = tf.keras.layers.Dense(128,activation = 'relu')(x[0]),\n",
        "x = tf.keras.layers.Dense(32,activation = 'relu')(x[0])\n",
        "\n",
        "embedding_network = tf.keras.Model(input, x)\n",
        "\n",
        "ip1 = layers.Input((45,513))\n",
        "ip2 = layers.Input((45,513))\n",
        "\n",
        "inst_1 = embedding_network(ip1)\n",
        "inst_2 = embedding_network(ip2)\n",
        "\n",
        "x2 = tf.keras.layers.Lambda(euclidean_distance)([inst_1, inst_2])\n",
        "op = tf.keras.layers.Dense(1, activation=\"sigmoid\")(x2)\n",
        "model_4 = tf.keras.Model(inputs=[ip1, ip2], outputs=op)"
      ]
    },
    {
      "cell_type": "code",
      "execution_count": null,
      "metadata": {
        "colab": {
          "base_uri": "https://localhost:8080/"
        },
        "id": "HNIx7n_wNvnu",
        "outputId": "2f4c0fcb-f244-4ca8-f921-48ccbe436882"
      },
      "outputs": [
        {
          "name": "stdout",
          "output_type": "stream",
          "text": [
            "Model: \"model_3\"\n",
            "__________________________________________________________________________________________________\n",
            " Layer (type)                   Output Shape         Param #     Connected to                     \n",
            "==================================================================================================\n",
            " input_5 (InputLayer)           [(None, 45, 513)]    0           []                               \n",
            "                                                                                                  \n",
            " input_6 (InputLayer)           [(None, 45, 513)]    0           []                               \n",
            "                                                                                                  \n",
            " model_2 (Functional)           (None, 32)           3234104     ['input_5[0][0]',                \n",
            "                                                                  'input_6[0][0]']                \n",
            "                                                                                                  \n",
            " lambda_1 (Lambda)              (None, 1)            0           ['model_2[0][0]',                \n",
            "                                                                  'model_2[1][0]']                \n",
            "                                                                                                  \n",
            " dense_5 (Dense)                (None, 1)            2           ['lambda_1[0][0]']               \n",
            "                                                                                                  \n",
            "==================================================================================================\n",
            "Total params: 3,234,106\n",
            "Trainable params: 3,234,106\n",
            "Non-trainable params: 0\n",
            "__________________________________________________________________________________________________\n"
          ]
        }
      ],
      "source": [
        "model_4.summary()"
      ]
    },
    {
      "cell_type": "code",
      "execution_count": null,
      "metadata": {
        "id": "InHC1Kh1MRHM"
      },
      "outputs": [],
      "source": [
        "model_4.compile(loss=loss(margin=1), optimizer=\"adam\", metrics=[\"accuracy\"])"
      ]
    },
    {
      "cell_type": "markdown",
      "metadata": {
        "id": "giciOJCE7OrC"
      },
      "source": [
        "### Training the Model"
      ]
    },
    {
      "cell_type": "code",
      "execution_count": null,
      "metadata": {
        "colab": {
          "base_uri": "https://localhost:8080/"
        },
        "id": "pbEV07FGPQx0",
        "outputId": "46f6e0a2-e4f2-4776-ad69-04203bdb4bb2"
      },
      "outputs": [
        {
          "name": "stdout",
          "output_type": "stream",
          "text": [
            "Epoch 1/40\n",
            "50/50 [==============================] - 8s 63ms/step - loss: 0.2455 - accuracy: 0.5002 - val_loss: 0.2841 - val_accuracy: 0.5000\n",
            "Epoch 2/40\n",
            "50/50 [==============================] - 1s 30ms/step - loss: 0.2169 - accuracy: 0.5407 - val_loss: 0.2228 - val_accuracy: 0.5228\n",
            "Epoch 3/40\n",
            "50/50 [==============================] - 1s 30ms/step - loss: 0.1963 - accuracy: 0.6351 - val_loss: 0.2097 - val_accuracy: 0.5550\n",
            "Epoch 4/40\n",
            "50/50 [==============================] - 1s 30ms/step - loss: 0.1783 - accuracy: 0.7260 - val_loss: 0.2082 - val_accuracy: 0.6167\n",
            "Epoch 5/40\n",
            "50/50 [==============================] - 1s 30ms/step - loss: 0.1704 - accuracy: 0.7633 - val_loss: 0.2095 - val_accuracy: 0.6494\n",
            "Epoch 6/40\n",
            "50/50 [==============================] - 2s 31ms/step - loss: 0.1566 - accuracy: 0.8084 - val_loss: 0.1999 - val_accuracy: 0.6667\n",
            "Epoch 7/40\n",
            "50/50 [==============================] - 1s 30ms/step - loss: 0.1474 - accuracy: 0.8356 - val_loss: 0.1936 - val_accuracy: 0.6756\n",
            "Epoch 8/40\n",
            "50/50 [==============================] - 1s 30ms/step - loss: 0.1433 - accuracy: 0.8444 - val_loss: 0.2294 - val_accuracy: 0.6561\n",
            "Epoch 9/40\n",
            "50/50 [==============================] - 2s 30ms/step - loss: 0.1625 - accuracy: 0.8078 - val_loss: 0.2263 - val_accuracy: 0.6061\n",
            "Epoch 10/40\n",
            "50/50 [==============================] - 1s 30ms/step - loss: 0.1361 - accuracy: 0.8678 - val_loss: 0.2223 - val_accuracy: 0.6194\n",
            "Epoch 11/40\n",
            "50/50 [==============================] - 1s 30ms/step - loss: 0.1274 - accuracy: 0.8856 - val_loss: 0.2239 - val_accuracy: 0.6194\n",
            "Epoch 12/40\n",
            "50/50 [==============================] - 1s 30ms/step - loss: 0.1209 - accuracy: 0.8969 - val_loss: 0.2280 - val_accuracy: 0.6450\n",
            "Epoch 13/40\n",
            "50/50 [==============================] - 1s 30ms/step - loss: 0.1134 - accuracy: 0.9171 - val_loss: 0.2302 - val_accuracy: 0.6233\n",
            "Epoch 14/40\n",
            "50/50 [==============================] - 1s 30ms/step - loss: 0.1058 - accuracy: 0.9273 - val_loss: 0.2435 - val_accuracy: 0.6500\n",
            "Epoch 15/40\n",
            "50/50 [==============================] - 1s 30ms/step - loss: 0.1019 - accuracy: 0.9271 - val_loss: 0.2655 - val_accuracy: 0.6172\n",
            "Epoch 16/40\n",
            "50/50 [==============================] - 2s 31ms/step - loss: 0.1050 - accuracy: 0.9233 - val_loss: 0.1954 - val_accuracy: 0.6972\n",
            "Epoch 17/40\n",
            "50/50 [==============================] - 1s 30ms/step - loss: 0.1732 - accuracy: 0.7607 - val_loss: 0.2404 - val_accuracy: 0.5778\n",
            "Epoch 18/40\n",
            "50/50 [==============================] - 1s 30ms/step - loss: 0.1741 - accuracy: 0.7593 - val_loss: 0.1963 - val_accuracy: 0.7089\n",
            "Epoch 19/40\n",
            "50/50 [==============================] - 1s 30ms/step - loss: 0.1452 - accuracy: 0.8276 - val_loss: 0.2089 - val_accuracy: 0.6811\n",
            "Epoch 20/40\n",
            "50/50 [==============================] - 1s 30ms/step - loss: 0.1243 - accuracy: 0.8796 - val_loss: 0.2116 - val_accuracy: 0.6783\n",
            "Epoch 21/40\n",
            "50/50 [==============================] - 1s 30ms/step - loss: 0.1096 - accuracy: 0.9042 - val_loss: 0.1961 - val_accuracy: 0.7100\n",
            "Epoch 22/40\n",
            "50/50 [==============================] - 1s 30ms/step - loss: 0.0986 - accuracy: 0.9193 - val_loss: 0.2196 - val_accuracy: 0.6694\n",
            "Epoch 23/40\n",
            "50/50 [==============================] - 1s 30ms/step - loss: 0.0918 - accuracy: 0.9207 - val_loss: 0.2160 - val_accuracy: 0.6883\n",
            "Epoch 24/40\n",
            "50/50 [==============================] - 1s 30ms/step - loss: 0.0875 - accuracy: 0.9333 - val_loss: 0.2174 - val_accuracy: 0.6850\n",
            "Epoch 25/40\n",
            "50/50 [==============================] - 2s 31ms/step - loss: 0.0829 - accuracy: 0.9329 - val_loss: 0.2243 - val_accuracy: 0.6717\n",
            "Epoch 26/40\n",
            "50/50 [==============================] - 2s 31ms/step - loss: 0.0793 - accuracy: 0.9389 - val_loss: 0.2243 - val_accuracy: 0.6728\n",
            "Epoch 27/40\n",
            "50/50 [==============================] - 2s 30ms/step - loss: 0.0721 - accuracy: 0.9449 - val_loss: 0.2319 - val_accuracy: 0.6600\n",
            "Epoch 28/40\n",
            "50/50 [==============================] - 1s 30ms/step - loss: 0.0693 - accuracy: 0.9444 - val_loss: 0.2294 - val_accuracy: 0.6706\n",
            "Epoch 29/40\n",
            "50/50 [==============================] - 1s 30ms/step - loss: 0.0654 - accuracy: 0.9493 - val_loss: 0.2405 - val_accuracy: 0.6572\n",
            "Epoch 30/40\n",
            "50/50 [==============================] - 1s 30ms/step - loss: 0.0635 - accuracy: 0.9493 - val_loss: 0.2292 - val_accuracy: 0.6728\n",
            "Epoch 31/40\n",
            "50/50 [==============================] - 1s 30ms/step - loss: 0.0620 - accuracy: 0.9524 - val_loss: 0.2371 - val_accuracy: 0.6739\n",
            "Epoch 32/40\n",
            "50/50 [==============================] - 1s 30ms/step - loss: 0.0571 - accuracy: 0.9567 - val_loss: 0.2258 - val_accuracy: 0.6783\n",
            "Epoch 33/40\n",
            "50/50 [==============================] - 1s 30ms/step - loss: 0.0539 - accuracy: 0.9589 - val_loss: 0.2445 - val_accuracy: 0.6711\n",
            "Epoch 34/40\n",
            "50/50 [==============================] - 1s 30ms/step - loss: 0.0511 - accuracy: 0.9640 - val_loss: 0.2487 - val_accuracy: 0.6656\n",
            "Epoch 35/40\n",
            "50/50 [==============================] - 1s 30ms/step - loss: 0.0493 - accuracy: 0.9631 - val_loss: 0.2508 - val_accuracy: 0.6617\n",
            "Epoch 36/40\n",
            "50/50 [==============================] - 2s 30ms/step - loss: 0.0480 - accuracy: 0.9662 - val_loss: 0.2606 - val_accuracy: 0.6528\n",
            "Epoch 37/40\n",
            "50/50 [==============================] - 2s 30ms/step - loss: 0.0431 - accuracy: 0.9689 - val_loss: 0.2687 - val_accuracy: 0.6550\n",
            "Epoch 38/40\n",
            "50/50 [==============================] - 2s 30ms/step - loss: 0.0420 - accuracy: 0.9684 - val_loss: 0.2685 - val_accuracy: 0.6533\n",
            "Epoch 39/40\n",
            "50/50 [==============================] - 1s 30ms/step - loss: 0.0496 - accuracy: 0.9576 - val_loss: 0.2220 - val_accuracy: 0.6867\n",
            "Epoch 40/40\n",
            "50/50 [==============================] - 1s 30ms/step - loss: 0.0489 - accuracy: 0.9589 - val_loss: 0.2241 - val_accuracy: 0.7022\n"
          ]
        }
      ],
      "source": [
        "history = model_4.fit(\n",
        "    [pair_list[:,0], pair_list[:,1]],\n",
        "    labels,\n",
        "    validation_data=([test_pair_list[:,0],test_pair_list[:,1]],test_labels),\n",
        "    batch_size=90,\n",
        "    epochs=40\n",
        ")"
      ]
    },
    {
      "cell_type": "markdown",
      "metadata": {
        "id": "jwYcreio7Ztm"
      },
      "source": [
        "### Evaluating the Model on Test Data"
      ]
    },
    {
      "cell_type": "code",
      "execution_count": null,
      "metadata": {
        "colab": {
          "base_uri": "https://localhost:8080/"
        },
        "id": "f0piBOSgPFqN",
        "outputId": "5916e108-90c6-4bbb-cca0-a92cc424eb55"
      },
      "outputs": [
        {
          "name": "stdout",
          "output_type": "stream",
          "text": [
            "57/57 [==============================] - 2s 11ms/step - loss: 0.2241 - accuracy: 0.7022\n"
          ]
        }
      ],
      "source": [
        "history1 = model_4.evaluate([test_pair_list[:,0],test_pair_list[:,1]],test_labels)"
      ]
    },
    {
      "cell_type": "markdown",
      "metadata": {
        "id": "qLhqNAFi7fz7"
      },
      "source": [
        "### Plotting the Training and Test Accuracies"
      ]
    },
    {
      "cell_type": "code",
      "execution_count": null,
      "metadata": {
        "colab": {
          "base_uri": "https://localhost:8080/",
          "height": 295
        },
        "id": "h5PIpWKvQi4m",
        "outputId": "27855e3d-090f-47fc-fc15-8f333556d3e2"
      },
      "outputs": [
        {
          "data": {
            "image/png": "[encoded data removed]",
            "text/plain": [
              "<Figure size 432x288 with 1 Axes>"
            ]
          },
          "metadata": {
            "needs_background": "light"
          },
          "output_type": "display_data"
        }
      ],
      "source": [
        "plt.plot(history.history[\"accuracy\"],label='Training Accuracy')\n",
        "plt.plot(history.history[\"val_accuracy\"],label='Testing Accuracy')\n",
        "plt.title(\"Comparing the Model Accuracy on Training and Testing\")\n",
        "plt.ylabel(\"Accuracy\")\n",
        "plt.xlabel(\"Epoch\")\n",
        "plt.show()"
      ]
    }
  ],
  "metadata": {
    "accelerator": "GPU",
    "colab": {
      "provenance": [],
      "gpuClass": "premium"
    },
    "gpuClass": "premium",
    "kernelspec": {
      "display_name": "Python 3 (ipykernel)",
      "language": "python",
      "name": "python3"
    },
    "language_info": {
      "codemirror_mode": {
        "name": "ipython",
        "version": 3
      },
      "file_extension": ".py",
      "mimetype": "text/x-python",
      "name": "python",
      "nbconvert_exporter": "python",
      "pygments_lexer": "ipython3",
      "version": "3.9.12"
    }
  },
  "nbformat": 4,
  "nbformat_minor": 0
}